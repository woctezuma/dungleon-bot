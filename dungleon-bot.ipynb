{
  "nbformat": 4,
  "nbformat_minor": 0,
  "metadata": {
    "colab": {
      "name": "dungleon-bot.ipynb",
      "private_outputs": true,
      "provenance": [],
      "collapsed_sections": []
    },
    "kernelspec": {
      "name": "python3",
      "display_name": "Python 3"
    },
    "language_info": {
      "name": "python"
    },
    "gpuClass": "standard"
  },
  "cells": [
    {
      "cell_type": "markdown",
      "source": [
        "# Dungleon Bot\n",
        "References:\n",
        "- https://github.com/woctezuma/Dungleon-Bot\n",
        "- https://github.com/woctezuma/WordleBot (C++ fork)\n",
        "- https://github.com/woctezuma/Wordle-Bot (Python fork)"
      ],
      "metadata": {
        "id": "rQiRKBBUzs-0"
      }
    },
    {
      "cell_type": "markdown",
      "source": [
        "## C++"
      ],
      "metadata": {
        "id": "sDjPh2psHu5b"
      }
    },
    {
      "cell_type": "code",
      "source": [
        "%cd /content\n",
        "!git clone https://github.com/woctezuma/WordleBot.git\n",
        "%cd WordleBot\n",
        "!git checkout dungleon\n",
        "!make\n",
        "!curl -O https://raw.githubusercontent.com/woctezuma/dungleon-bot/main/data/dungleon_guesses.txt\n",
        "!curl -O https://raw.githubusercontent.com/woctezuma/dungleon-bot/main/data/dungleon_solutions.txt"
      ],
      "metadata": {
        "id": "Va0HzhIWHfft"
      },
      "execution_count": null,
      "outputs": []
    },
    {
      "cell_type": "code",
      "source": [
        "!./wordlebot"
      ],
      "metadata": {
        "id": "wXFwbemAIgKx"
      },
      "execution_count": null,
      "outputs": []
    },
    {
      "cell_type": "markdown",
      "source": [
        "## Python"
      ],
      "metadata": {
        "id": "0arL2UYrHw4D"
      }
    },
    {
      "cell_type": "code",
      "execution_count": null,
      "metadata": {
        "id": "R_1YAhbAxKLn"
      },
      "outputs": [],
      "source": [
        "%cd /content\n",
        "!git clone https://github.com/woctezuma/Wordle-Bot.git\n",
        "%cd Wordle-Bot\n",
        "!git checkout dungleon\n",
        "%pip install -q -r requirements.txt\n",
        "!curl -O https://raw.githubusercontent.com/woctezuma/dungleon-bot/main/data/dungleon_guesses.txt\n",
        "!curl -O https://raw.githubusercontent.com/woctezuma/dungleon-bot/main/data/dungleon_solutions.txt"
      ]
    },
    {
      "cell_type": "code",
      "source": [
        "!python wordle.py"
      ],
      "metadata": {
        "id": "1Ptr-nCgzagX"
      },
      "execution_count": null,
      "outputs": []
    }
  ]
}